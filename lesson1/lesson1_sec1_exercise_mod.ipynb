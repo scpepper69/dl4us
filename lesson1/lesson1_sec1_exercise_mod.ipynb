{
  "nbformat": 4,
  "nbformat_minor": 0,
  "metadata": {
    "colab": {
      "name": "lesson1_sec1_exercise_mod.ipynb",
      "version": "0.3.2",
      "provenance": [],
      "toc_visible": true
    },
    "language_info": {
      "codemirror_mode": {
        "name": "ipython",
        "version": 3
      },
      "file_extension": ".py",
      "mimetype": "text/x-python",
      "name": "python",
      "nbconvert_exporter": "python",
      "pygments_lexer": "ipython3",
      "version": "3.6.6"
    },
    "kernelspec": {
      "name": "python3",
      "display_name": "Python 3"
    },
    "accelerator": "GPU"
  },
  "cells": [
    {
      "cell_type": "markdown",
      "metadata": {
        "id": "bYOnZhT30bGu",
        "colab_type": "text"
      },
      "source": [
        "# Lesson1 手書き文字認識をしよう（ニューラルネットワーク入門）"
      ]
    },
    {
      "cell_type": "markdown",
      "metadata": {
        "id": "-Ju7RayK0bGy",
        "colab_type": "text"
      },
      "source": [
        "## 目次\n",
        "\n",
        "- Section1 解説\n",
        "  - 1.1 Keras実装プロセス\n",
        "  - 1.2 各モデルLayer\n",
        "  - 1.3 損失関数\n",
        "  - 1.4 評価関数\n",
        "  - 1.5 Functional API\n",
        "  - 1.6 確認問題\n",
        "- Section2 実装①\n",
        "  - 2.1 MNISTによるMLPの復習\n",
        "- Section3 テクニック・発展内容\n",
        "  - 3.1 前処理\n",
        "  - 3.2 勾配に関するテクニック\n",
        "    - 3.2.1 最適化アルゴリズム (optimizer)\n",
        "    - 3.2.2 活性化関数 (activation)\n",
        "    - 3.2.3 初期化 (initializer)\n",
        "  - 3.3 過学習に関するテクニック\n",
        "    - 3.3.1 正則化 (regularization)\n",
        "    - 3.3.2 早期終了 (early stopping)\n",
        "    - 3.3.3 ドロップアウト (dropout)\n",
        "  - 3.4 確認問題\n",
        "- Section4 実装②\n",
        "  - 4.1 Fashion MNIST\n",
        "  - 4.2 実装"
      ]
    },
    {
      "cell_type": "markdown",
      "metadata": {
        "id": "4pNejt1B0bG1",
        "colab_type": "text"
      },
      "source": [
        "## Section1 解説"
      ]
    },
    {
      "cell_type": "markdown",
      "metadata": {
        "id": "J2n0HLjd0bG3",
        "colab_type": "text"
      },
      "source": [
        "### 1.1 Keras実装プロセス"
      ]
    },
    {
      "cell_type": "markdown",
      "metadata": {
        "id": "HVNVVU2o0bG5",
        "colab_type": "text"
      },
      "source": [
        "今回は早速Kerasでの実装方法を見ていきたいと思います。\n",
        "\n",
        "まず、Kerasの雰囲気を感じ取ってもらうため、Kerasで機械学習を行う際に、\n",
        "\n",
        "1. いったいどういった手順を踏むか\n",
        "2. コードはどう書くのか\n",
        "\n",
        "をざっくりと見ていきたいと思います。\n",
        "\n",
        "実装は、MLP(Multi Layer Perceptron)とCNN(Convolutional Neural Network)の2つで行い、その実装およびモデル構造、学習結果の比較をしてみます。\n",
        "\n",
        "\n",
        "題材としては、手書き数字画像を入力データ、対応する数字の値を出力データとする教師あり学習（分類）です。\n",
        "\n",
        "参考：https://keras.io/ja/"
      ]
    },
    {
      "cell_type": "markdown",
      "metadata": {
        "id": "CFKVp80t0bG8",
        "colab_type": "text"
      },
      "source": [
        "### 1.1.0 データの用意\n",
        "まず機械学習を適用するデータを用意しなければ始まりません。\n",
        "\n",
        "ここでは、機械学習で頻繁に用いられる、MNISTの手書き数字データセットを用います。\n",
        "\n",
        "データセットの中身は、\n",
        "\n",
        "* x:手書き数字画像(28×28)\n",
        "* y:正解のラベル（xの画像が表す数字）\n",
        "\n",
        "となっていますが、\n",
        "\n",
        "* (x_train, y_train):モデルの学習用\n",
        "* (x_test, y_test):モデルの評価用\n",
        "\n",
        "と区別してあります。\n",
        "\n",
        "機械学習では汎化性能の向上が至上命題なので、学習用のデータだけでなく評価用のデータが必要になります。\n",
        "\n",
        "MNISTのデータセットも、全てのデータを使用するのではなく、学習用と評価用に予め分割してあるわけです。\n",
        "\n",
        "（分割は事前に行っておく必要があります。評価用のデータまで使用して学習を行うのは、カンニングと変わらなくなってしまいます。）\n",
        "\n",
        "なお、KerasではこのMNISTのデータセットに限らず、機械学習で頻繁に用いられるデータセットがいくつも用意されており、性能評価を手軽に行えます。\n",
        "\n",
        "keras.datasets以下からimportすることで使用できますので、ぜひ使っていきましょう。\n",
        "\n",
        "Kerasから直接使用できるデータセットの一覧はこちら( https://keras.io/ja/datasets/ )です。"
      ]
    },
    {
      "cell_type": "code",
      "metadata": {
        "id": "MIjKuxuD0bG-",
        "colab_type": "code",
        "colab": {
          "base_uri": "https://localhost:8080/",
          "height": 54
        },
        "outputId": "899df608-d39c-4488-ac85-c05157bcbfe3"
      },
      "source": [
        "from tensorflow.keras.datasets import mnist\n",
        "\n",
        "# MNISTデータセットをダウンロードし、変数にセット\n",
        "(x_train, y_train), (x_test, y_test) = mnist.load_data()"
      ],
      "execution_count": 1,
      "outputs": [
        {
          "output_type": "stream",
          "text": [
            "Downloading data from https://storage.googleapis.com/tensorflow/tf-keras-datasets/mnist.npz\n",
            "11493376/11490434 [==============================] - 0s 0us/step\n"
          ],
          "name": "stdout"
        }
      ]
    },
    {
      "cell_type": "markdown",
      "metadata": {
        "id": "M3pSTYqA0bHI",
        "colab_type": "text"
      },
      "source": [
        "今回扱うMNISTの手書き数字のデータを下記で表示してみましょう。\n",
        "\n",
        "表示する際には、matplotlibを用います。これはPythonでグラフの表示をする際に標準的に用いられるライブラリです。\n",
        "\n",
        "中でもpyplotは最もよく使用されるモジュールで、標準的な描画処理の多くに対応しています。\n",
        "\n",
        "ここでは詳しくは説明しませんが、公式のマニュアルでpyplotに含まれる関数に目を通しておくことをお勧めします。\n",
        "\n",
        "参考：https://matplotlib.org/api/pyplot_api.html\n",
        "\n",
        "なお、jupyer notebook上でmatplotlibの結果を表示するには、`%matplotlib inline`を冒頭で宣言する必要があります。\n",
        "\n",
        "（ちなみに、このような`%`あるいは`%%`から始まるjupyter notebookに対するコマンドはマジックコマンドと呼ばれ、他にも様々なものが存在します。）\n",
        "\n",
        "また、MNISTの画像には、それぞれに対して画像が示す数字が正解のラベルとして与えられています。"
      ]
    },
    {
      "cell_type": "code",
      "metadata": {
        "id": "T-XaTkOc0bHL",
        "colab_type": "code",
        "colab": {
          "base_uri": "https://localhost:8080/",
          "height": 478
        },
        "outputId": "c2fec4fe-3e47-4a9f-939c-6464195513cf"
      },
      "source": [
        "%matplotlib inline\n",
        "import matplotlib.pyplot as plt\n",
        "\n",
        "fig = plt.figure(figsize=(9, 15))\n",
        "fig.subplots_adjust(left=0, right=1, bottom=0, top=0.5, hspace=0.05, wspace=0.05)\n",
        "\n",
        "# 各MNIST画像の上に（タイトルとして）対応するラベルを表示\n",
        "for i in range(30):\n",
        "    ax = fig.add_subplot(3, 10, i + 1, xticks=[], yticks=[])\n",
        "    ax.set_title(str(y_train[i]))\n",
        "    ax.imshow(x_train[i], cmap='gray')"
      ],
      "execution_count": 2,
      "outputs": [
        {
          "output_type": "display_data",
          "data": {
            "image/png": "[encoded data removed]",
            "text/plain": [
              "<Figure size 648x1080 with 30 Axes>"
            ]
          },
          "metadata": {
            "tags": []
          }
        }
      ]
    },
    {
      "cell_type": "markdown",
      "metadata": {
        "id": "_ZCxZxgl0bHX",
        "colab_type": "text"
      },
      "source": [
        "これから、このMNISTの各画像が0～9のどの数字であるか分類する事を考えていきます。\n",
        "\n",
        "問題としては、いわゆる10クラス分類の問題です。（分類先のことを**クラス**と呼びます）\n",
        "\n",
        "さて、ここで特に分類タスクの際に気をつけたいことがあります。\n",
        "\n",
        "分類タスクの時の出力データはラベルですが、ラベルは数字としての大小には意味がないということです。\n",
        "\n",
        "というのも、グループの名前として数字を割り振っているだけであるためです。こうした数字を**名義尺度**と呼びます。\n",
        "\n",
        "機械学習のアルゴリズムでは数字の大小に意味があるものとして扱ってしまうため、名義尺度をうまく変換しなければなりません。\n",
        "\n",
        "この名義尺度を変換する表現として使用されるのが、**one-hot表現**と呼ばれるものです。\n",
        "\n",
        "全体で3クラスあるときの各クラスの表現は次の通りです。\n",
        "\n",
        "<ul>\n",
        "    <li>1：$[1,0,0]$</li>\n",
        "    <li>2：$[0,1,0]$</li>\n",
        "    <li>3：$[0,0,1]$</li>\n",
        "</ul>\n",
        "\n",
        "長さ3のベクトルを用いて、各クラスの対応する要素のみ1として表現するということです。\n",
        "\n",
        "一般化すると、全体で$K$クラスある時、$k$番目のクラスに属するとき、\n",
        "\n",
        "$\\underset{K}{\\underbrace{[0,\\cdots,0,\\overset{k}{\\check{1}},0,\\cdots,0]}}$\n",
        "\n",
        "と表現するということです。\n",
        "\n",
        "このone-hot表現への変換を行ってくれる関数がKerasにはあります。\n",
        "\n",
        "keras.utils.to_categorical関数がその関数です。さっそくMNISTのデータセットにも適用してみましょう。\n",
        "\n",
        "https://keras.io/ja/utils/#to_categorical"
      ]
    },
    {
      "cell_type": "code",
      "metadata": {
        "id": "DDQdKIyfvZCK",
        "colab_type": "code",
        "colab": {}
      },
      "source": [
        "# BASIC or CNN\n",
        "model_structure=\"CNN\""
      ],
      "execution_count": 0,
      "outputs": []
    },
    {
      "cell_type": "code",
      "metadata": {
        "id": "DBvnPZCU0bHZ",
        "colab_type": "code",
        "colab": {}
      },
      "source": [
        "from tensorflow.keras.utils import to_categorical\n",
        "import numpy as np\n",
        "\n",
        "if model_structure==\"CNN\":\n",
        "    # for CNN \n",
        "    x_train = x_train.reshape(-1, 28, 28).astype(np.float32)\n",
        "    x_test = x_test.reshape(-1, 28, 28).astype(np.float32)\n",
        "else:\n",
        "    # 入力画像を行列(28x28)からベクトル(長さ784)に変換\n",
        "    x_train = x_train.reshape(-1, 784)\n",
        "    x_test = x_test.reshape(-1, 784)\n",
        "\n",
        "# 名義尺度の値をone-hot表現へ変換\n",
        "y_train = to_categorical(y_train)\n",
        "y_test = to_categorical(y_test)"
      ],
      "execution_count": 0,
      "outputs": []
    },
    {
      "cell_type": "markdown",
      "metadata": {
        "id": "bUUkN6qj0bHi",
        "colab_type": "text"
      },
      "source": [
        "### 1.1.1 モデル構築\n",
        "\n",
        "学習に使用するMLPのモデルを構築します。具体的には、どんなlayer（層）をどこに配置するか、また各layerのユニット数はいくつかを指定していきます。\n",
        "\n",
        "このモデルを構築するための「容器」として機能するのが、keras.models.Sequentialクラスです。\n",
        "\n",
        "この「容器」の中に、Sequential.add関数によってkeras.layersに定義されているlayerクラス（後で詳述）を積み重ねていくことでモデルの構築を行います。\n",
        "\n",
        "layerをSequentialクラスに積み終えたら、最後にSequential.compile関数でモデルの学習処理について指定し、モデル構築は完了です。\n",
        "\n",
        "compile関数では\n",
        "\n",
        "* optimizer（最適化手法）\n",
        "* loss（損失関数）\n",
        "* metrics（評価関数（任意））\n",
        "\n",
        "を指定することになります。（いずれも後で詳述）\n",
        "\n",
        "https://keras.io/ja/models/sequential/"
      ]
    },
    {
      "cell_type": "code",
      "metadata": {
        "id": "1rIGYTTK0bHk",
        "colab_type": "code",
        "colab": {}
      },
      "source": [
        "# モデル構築用ライブラリをインポート\n",
        "from tensorflow.keras.models import Sequential\n",
        "from tensorflow.keras.layers import Dense, Activation, Flatten\n",
        "\n",
        "# CNNモデル用ライブラリ\n",
        "from tensorflow.python.keras.layers import Conv2D, Convolution2D, MaxPooling2D, Dropout, BatchNormalization\n",
        "from tensorflow.python.keras import initializers"
      ],
      "execution_count": 0,
      "outputs": []
    },
    {
      "cell_type": "code",
      "metadata": {
        "id": "EQ25Y8nL0bHq",
        "colab_type": "code",
        "colab": {}
      },
      "source": [
        "# CNNモデルの場合\n",
        "if model_structure==\"CNN\":\n",
        "    x_train = x_train.reshape(x_train.shape[0], 28, 28, 1)\n",
        "    x_test = x_test.reshape(x_test.shape[0], 28, 28, 1)\n",
        "    input_shape = (28, 28, 1)"
      ],
      "execution_count": 0,
      "outputs": []
    },
    {
      "cell_type": "code",
      "metadata": {
        "id": "i8TOq83u0bHz",
        "colab_type": "code",
        "colab": {}
      },
      "source": [
        "# 「容器」へ各layer（Dense, Activation）を積み重ねていく（追加した順に配置されるので注意）\n",
        "# 最初のlayerはinput_shapeを指定して、入力するデータの次元を与える必要がある\n",
        "def basic_model():\n",
        "    model.add(Dense(units=256, input_shape=(784,)))\n",
        "    model.add(Activation('relu'))\n",
        "    model.add(Dense(units=100))\n",
        "    model.add(Activation('relu'))\n",
        "    model.add(Dense(units=10))\n",
        "    model.add(Activation('softmax'))\n",
        "\n",
        "\n",
        "# CNNモデル\n",
        "def cnn_model():\n",
        "    model.add(Conv2D(32, (3, 3), input_shape=(28,28,1)))\n",
        "    model.add(Activation('relu'))\n",
        "    model.add(Conv2D(64, (3, 3)))\n",
        "    model.add(Activation('relu'))\n",
        "    model.add(MaxPooling2D(pool_size=(2, 2)))\n",
        "\n",
        "    model.add(Flatten())\n",
        "    model.add(Dense(256))\n",
        "    model.add(Activation('relu'))\n",
        "    model.add(Dense(units=10))\n",
        "    model.add(Activation('softmax'))\n",
        "\n",
        "# CNNモデル w/Dropout\n",
        "def cnn_w_dropout():\n",
        "    model.add(Conv2D(32, (3, 3), input_shape=(28,28,1)))\n",
        "    model.add(Activation('relu'))\n",
        "    model.add(Conv2D(64, (3, 3)))\n",
        "    model.add(Activation('relu'))\n",
        "    model.add(MaxPooling2D(pool_size=(2, 2)))\n",
        "    model.add(Dropout(0.5))\n",
        "\n",
        "    model.add(Flatten())\n",
        "    model.add(Dense(256))\n",
        "    model.add(Activation('relu'))\n",
        "    model.add(Dropout(0.5))\n",
        "    model.add(Dense(units=10))\n",
        "    model.add(Activation('softmax'))\n",
        "    \n",
        "# CNNモデル w/Batch Normalization\n",
        "def cnn_w_batchnorm():\n",
        "    model.add(Conv2D(32, (3, 3), input_shape=(28,28,1)))\n",
        "    model.add(Activation('relu'))\n",
        "    model.add(Conv2D(64, (3, 3)))\n",
        "    model.add(Activation('relu'))\n",
        "    model.add(BatchNormalization())\n",
        "    model.add(MaxPooling2D(pool_size=(2, 2)))\n",
        "\n",
        "    model.add(Flatten())\n",
        "    model.add(Dense(256))\n",
        "    model.add(Activation('relu'))\n",
        "    model.add(BatchNormalization())\n",
        "    model.add(Dense(units=10))\n",
        "    model.add(Activation('softmax'))\n"
      ],
      "execution_count": 0,
      "outputs": []
    },
    {
      "cell_type": "code",
      "metadata": {
        "id": "Nq7BxPyz0bH3",
        "colab_type": "code",
        "colab": {
          "base_uri": "https://localhost:8080/",
          "height": 92
        },
        "outputId": "61621608-156a-48e0-b9db-2d378556a898"
      },
      "source": [
        "# モデルの「容器」を作成\n",
        "model = Sequential()\n",
        "\n",
        "# model構築\n",
        "if model_structure==\"CNN\":\n",
        "    cnn_model()\n",
        "#    cnn_w_dropout()\n",
        "#    cnn_w_batchnorm()\n",
        "else:\n",
        "    basic_model()\n"
      ],
      "execution_count": 8,
      "outputs": [
        {
          "output_type": "stream",
          "text": [
            "WARNING:tensorflow:From /usr/local/lib/python3.6/dist-packages/tensorflow/python/ops/resource_variable_ops.py:435: colocate_with (from tensorflow.python.framework.ops) is deprecated and will be removed in a future version.\n",
            "Instructions for updating:\n",
            "Colocations handled automatically by placer.\n"
          ],
          "name": "stdout"
        }
      ]
    },
    {
      "cell_type": "markdown",
      "metadata": {
        "id": "sSEVpmwMo1U8",
        "colab_type": "text"
      },
      "source": [
        "視覚的にわかるよう、モデル構造を図示します。"
      ]
    },
    {
      "cell_type": "code",
      "metadata": {
        "id": "vBmICHhQOX57",
        "colab_type": "code",
        "colab": {
          "base_uri": "https://localhost:8080/",
          "height": 506
        },
        "outputId": "552fcb82-4673-48e3-8a00-ba11efa8fdc9"
      },
      "source": [
        "!git clone https://github.com/scpepper69/convnet-drawer.git convert_drawer\n",
        "import sys\n",
        "sys.path.append('./convert_drawer/')\n",
        "from keras_util import convert_drawer_model\n",
        "from keras_models import AlexNet\n",
        "from matplotlib_util import save_model_to_file\n",
        "from IPython.display import *\n",
        "\n",
        "# get Keras sequential model\n",
        "#keras_sequential_model = AlexNet.get_model()\n",
        "draw_model = convert_drawer_model(model)\n",
        "\n",
        "# save as svg file\n",
        "draw_model.save_fig('model_structure.svg')\n",
        "display_svg(SVG('model_structure.svg'))\n"
      ],
      "execution_count": 9,
      "outputs": [
        {
          "output_type": "stream",
          "text": [
            "Cloning into 'convert_drawer'...\n",
            "remote: Enumerating objects: 64, done.\u001b[K\n",
            "remote: Counting objects: 100% (64/64), done.\u001b[K\n",
            "remote: Compressing objects: 100% (44/44), done.\u001b[K\n",
            "remote: Total 283 (delta 38), reused 46 (delta 20), pack-reused 219\u001b[K\n",
            "Receiving objects: 100% (283/283), 959.06 KiB | 8.80 MiB/s, done.\n",
            "Resolving deltas: 100% (168/168), done.\n",
            "4\n"
          ],
          "name": "stdout"
        },
        {
          "output_type": "stream",
          "text": [
            "Using TensorFlow backend.\n"
          ],
          "name": "stderr"
        },
        {
          "output_type": "display_data",
          "data": {
            "image/svg+xml": "<svg height=\"321.1803404061793\" viewBox=\"-40 -153.59017020308966 479.81106550258596 321.1803404061793\" width=\"479.81106550258596\" xmlns=\"http://www.w3.org/2000/svg\" xmlns:xlink=\"http://www.w3.org/1999/xlink\">\n<line stroke=\"rgb(0, 0, 0)\" stroke-dasharray=\"none\" stroke-width=\"1\" x1=\"0\" x2=\"0\" y1=\"9.100000000000001\" y2=\"-18.9\"/>\n<line stroke=\"rgb(0, 0, 0)\" stroke-dasharray=\"1\" stroke-width=\"1\" x1=\"1.0\" x2=\"1.0\" y1=\"9.100000000000001\" y2=\"-18.9\"/>\n<line stroke=\"rgb(0, 0, 0)\" stroke-dasharray=\"none\" stroke-width=\"1\" x1=\"16.974097914174997\" x2=\"16.974097914174997\" y1=\"18.9\" y2=\"-9.100000000000001\"/>\n<line stroke=\"rgb(0, 0, 0)\" stroke-dasharray=\"none\" stroke-width=\"1\" x1=\"17.974097914174997\" x2=\"17.974097914174997\" y1=\"18.9\" y2=\"-9.100000000000001\"/>\n<line stroke=\"rgb(0, 0, 0)\" stroke-dasharray=\"none\" stroke-width=\"1\" x1=\"0\" x2=\"16.974097914174997\" y1=\"9.100000000000001\" y2=\"18.9\"/>\n<line stroke=\"rgb(0, 0, 0)\" stroke-dasharray=\"none\" stroke-width=\"1\" x1=\"0\" x2=\"16.974097914174997\" y1=\"-18.9\" y2=\"-9.100000000000001\"/>\n<line stroke=\"rgb(0, 0, 0)\" stroke-dasharray=\"1\" stroke-width=\"1\" x1=\"1.0\" x2=\"17.974097914174997\" y1=\"9.100000000000001\" y2=\"18.9\"/>\n<line stroke=\"rgb(0, 0, 0)\" stroke-dasharray=\"none\" stroke-width=\"1\" x1=\"1.0\" x2=\"17.974097914174997\" y1=\"-18.9\" y2=\"-9.100000000000001\"/>\n<line stroke=\"rgb(0, 0, 0)\" stroke-dasharray=\"1\" stroke-width=\"1\" x1=\"0\" x2=\"1.0\" y1=\"9.100000000000001\" y2=\"9.100000000000001\"/>\n<line stroke=\"rgb(0, 0, 0)\" stroke-dasharray=\"none\" stroke-width=\"1\" x1=\"16.974097914174997\" x2=\"17.974097914174997\" y1=\"18.9\" y2=\"18.9\"/>\n<line stroke=\"rgb(0, 0, 0)\" stroke-dasharray=\"none\" stroke-width=\"1\" x1=\"0\" x2=\"1.0\" y1=\"-18.9\" y2=\"-18.9\"/>\n<line stroke=\"rgb(0, 0, 0)\" stroke-dasharray=\"none\" stroke-width=\"1\" x1=\"16.974097914174997\" x2=\"17.974097914174997\" y1=\"-9.100000000000001\" y2=\"-9.100000000000001\"/>\n<text fill=\"rgb(0, 0, 0)\" font-family=\"arial\" font-size=\"14px\" text-anchor=\"middle\" x=\"8.987048957087499\" y=\"-28.9\">28x28x1</text>\n<line stroke=\"rgb(0, 0, 0)\" stroke-dasharray=\"none\" stroke-width=\"1\" x1=\"67.97409791417499\" x2=\"67.97409791417499\" y1=\"8.450000000000001\" y2=\"-17.549999999999997\"/>\n<line stroke=\"rgb(0, 0, 0)\" stroke-dasharray=\"1\" stroke-width=\"1\" x1=\"75.97409791417499\" x2=\"75.97409791417499\" y1=\"8.450000000000001\" y2=\"-17.549999999999997\"/>\n<line stroke=\"rgb(0, 0, 0)\" stroke-dasharray=\"none\" stroke-width=\"1\" x1=\"83.73576026305177\" x2=\"83.73576026305177\" y1=\"17.549999999999997\" y2=\"-8.450000000000001\"/>\n<line stroke=\"rgb(0, 0, 0)\" stroke-dasharray=\"none\" stroke-width=\"1\" x1=\"91.73576026305177\" x2=\"91.73576026305177\" y1=\"17.549999999999997\" y2=\"-8.450000000000001\"/>\n<line stroke=\"rgb(0, 0, 0)\" stroke-dasharray=\"none\" stroke-width=\"1\" x1=\"67.97409791417499\" x2=\"83.73576026305177\" y1=\"8.450000000000001\" y2=\"17.549999999999997\"/>\n<line stroke=\"rgb(0, 0, 0)\" stroke-dasharray=\"none\" stroke-width=\"1\" x1=\"67.97409791417499\" x2=\"83.73576026305177\" y1=\"-17.549999999999997\" y2=\"-8.450000000000001\"/>\n<line stroke=\"rgb(0, 0, 0)\" stroke-dasharray=\"1\" stroke-width=\"1\" x1=\"75.97409791417499\" x2=\"91.73576026305177\" y1=\"8.450000000000001\" y2=\"17.549999999999997\"/>\n<line stroke=\"rgb(0, 0, 0)\" stroke-dasharray=\"none\" stroke-width=\"1\" x1=\"75.97409791417499\" x2=\"91.73576026305177\" y1=\"-17.549999999999997\" y2=\"-8.450000000000001\"/>\n<line stroke=\"rgb(0, 0, 0)\" stroke-dasharray=\"1\" stroke-width=\"1\" x1=\"67.97409791417499\" x2=\"75.97409791417499\" y1=\"8.450000000000001\" y2=\"8.450000000000001\"/>\n<line stroke=\"rgb(0, 0, 0)\" stroke-dasharray=\"none\" stroke-width=\"1\" x1=\"83.73576026305177\" x2=\"91.73576026305177\" y1=\"17.549999999999997\" y2=\"17.549999999999997\"/>\n<line stroke=\"rgb(0, 0, 0)\" stroke-dasharray=\"none\" stroke-width=\"1\" x1=\"67.97409791417499\" x2=\"75.97409791417499\" y1=\"-17.549999999999997\" y2=\"-17.549999999999997\"/>\n<line stroke=\"rgb(0, 0, 0)\" stroke-dasharray=\"none\" stroke-width=\"1\" x1=\"83.73576026305177\" x2=\"91.73576026305177\" y1=\"-8.450000000000001\" y2=\"-8.450000000000001\"/>\n<text fill=\"rgb(0, 0, 0)\" font-family=\"arial\" font-size=\"14px\" text-anchor=\"middle\" x=\"79.85492908861337\" y=\"-27.549999999999997\">26x26x32</text>\n<line stroke=\"rgb(0, 0, 0)\" stroke-dasharray=\"none\" stroke-width=\"1\" x1=\"141.73576026305176\" x2=\"141.73576026305176\" y1=\"7.800000000000002\" y2=\"-16.2\"/>\n<line stroke=\"rgb(0, 0, 0)\" stroke-dasharray=\"1\" stroke-width=\"1\" x1=\"153.86149279513495\" x2=\"153.86149279513495\" y1=\"7.800000000000002\" y2=\"-16.2\"/>\n<line stroke=\"rgb(0, 0, 0)\" stroke-dasharray=\"none\" stroke-width=\"1\" x1=\"156.28498704663033\" x2=\"156.28498704663033\" y1=\"16.2\" y2=\"-7.800000000000002\"/>\n<line stroke=\"rgb(0, 0, 0)\" stroke-dasharray=\"none\" stroke-width=\"1\" x1=\"168.4107195787135\" x2=\"168.4107195787135\" y1=\"16.2\" y2=\"-7.800000000000002\"/>\n<line stroke=\"rgb(0, 0, 0)\" stroke-dasharray=\"none\" stroke-width=\"1\" x1=\"141.73576026305176\" x2=\"156.28498704663033\" y1=\"7.800000000000002\" y2=\"16.2\"/>\n<line stroke=\"rgb(0, 0, 0)\" stroke-dasharray=\"none\" stroke-width=\"1\" x1=\"141.73576026305176\" x2=\"156.28498704663033\" y1=\"-16.2\" y2=\"-7.800000000000002\"/>\n<line stroke=\"rgb(0, 0, 0)\" stroke-dasharray=\"1\" stroke-width=\"1\" x1=\"153.86149279513495\" x2=\"168.4107195787135\" y1=\"7.800000000000002\" y2=\"16.2\"/>\n<line stroke=\"rgb(0, 0, 0)\" stroke-dasharray=\"none\" stroke-width=\"1\" x1=\"153.86149279513495\" x2=\"168.4107195787135\" y1=\"-16.2\" y2=\"-7.800000000000002\"/>\n<line stroke=\"rgb(0, 0, 0)\" stroke-dasharray=\"1\" stroke-width=\"1\" x1=\"141.73576026305176\" x2=\"153.86149279513495\" y1=\"7.800000000000002\" y2=\"7.800000000000002\"/>\n<line stroke=\"rgb(0, 0, 0)\" stroke-dasharray=\"none\" stroke-width=\"1\" x1=\"156.28498704663033\" x2=\"168.4107195787135\" y1=\"16.2\" y2=\"16.2\"/>\n<line stroke=\"rgb(0, 0, 0)\" stroke-dasharray=\"none\" stroke-width=\"1\" x1=\"141.73576026305176\" x2=\"153.86149279513495\" y1=\"-16.2\" y2=\"-16.2\"/>\n<line stroke=\"rgb(0, 0, 0)\" stroke-dasharray=\"none\" stroke-width=\"1\" x1=\"156.28498704663033\" x2=\"168.4107195787135\" y1=\"-7.800000000000002\" y2=\"-7.800000000000002\"/>\n<text fill=\"rgb(0, 0, 0)\" font-family=\"arial\" font-size=\"14px\" text-anchor=\"middle\" x=\"155.07323992088266\" y=\"-26.2\">24x24x64</text>\n<line stroke=\"rgb(0, 0, 0)\" stroke-dasharray=\"none\" stroke-width=\"1\" x1=\"218.41071957871353\" x2=\"218.41071957871353\" y1=\"3.900000000000001\" y2=\"-8.1\"/>\n<line stroke=\"rgb(0, 0, 0)\" stroke-dasharray=\"1\" stroke-width=\"1\" x1=\"230.53645211079672\" x2=\"230.53645211079672\" y1=\"3.900000000000001\" y2=\"-8.1\"/>\n<line stroke=\"rgb(0, 0, 0)\" stroke-dasharray=\"none\" stroke-width=\"1\" x1=\"225.6853329705028\" x2=\"225.6853329705028\" y1=\"8.1\" y2=\"-3.900000000000001\"/>\n<line stroke=\"rgb(0, 0, 0)\" stroke-dasharray=\"none\" stroke-width=\"1\" x1=\"237.811065502586\" x2=\"237.811065502586\" y1=\"8.1\" y2=\"-3.900000000000001\"/>\n<line stroke=\"rgb(0, 0, 0)\" stroke-dasharray=\"none\" stroke-width=\"1\" x1=\"218.41071957871353\" x2=\"225.6853329705028\" y1=\"3.900000000000001\" y2=\"8.1\"/>\n<line stroke=\"rgb(0, 0, 0)\" stroke-dasharray=\"none\" stroke-width=\"1\" x1=\"218.41071957871353\" x2=\"225.6853329705028\" y1=\"-8.1\" y2=\"-3.900000000000001\"/>\n<line stroke=\"rgb(0, 0, 0)\" stroke-dasharray=\"1\" stroke-width=\"1\" x1=\"230.53645211079672\" x2=\"237.811065502586\" y1=\"3.900000000000001\" y2=\"8.1\"/>\n<line stroke=\"rgb(0, 0, 0)\" stroke-dasharray=\"none\" stroke-width=\"1\" x1=\"230.53645211079672\" x2=\"237.811065502586\" y1=\"-8.1\" y2=\"-3.900000000000001\"/>\n<line stroke=\"rgb(0, 0, 0)\" stroke-dasharray=\"1\" stroke-width=\"1\" x1=\"218.41071957871353\" x2=\"230.53645211079672\" y1=\"3.900000000000001\" y2=\"3.900000000000001\"/>\n<line stroke=\"rgb(0, 0, 0)\" stroke-dasharray=\"none\" stroke-width=\"1\" x1=\"225.6853329705028\" x2=\"237.811065502586\" y1=\"8.1\" y2=\"8.1\"/>\n<line stroke=\"rgb(0, 0, 0)\" stroke-dasharray=\"none\" stroke-width=\"1\" x1=\"218.41071957871353\" x2=\"230.53645211079672\" y1=\"-8.1\" y2=\"-8.1\"/>\n<line stroke=\"rgb(0, 0, 0)\" stroke-dasharray=\"none\" stroke-width=\"1\" x1=\"225.6853329705028\" x2=\"237.811065502586\" y1=\"-3.900000000000001\" y2=\"-3.900000000000001\"/>\n<text fill=\"rgb(0, 0, 0)\" font-family=\"arial\" font-size=\"14px\" text-anchor=\"middle\" x=\"228.11089254064976\" y=\"-18.1\">12x12x64</text>\n<line stroke=\"rgb(0, 0, 0)\" stroke-dasharray=\"none\" stroke-width=\"1\" x1=\"287.81106550258596\" x2=\"287.81106550258596\" y1=\"-119.59017020308964\" y2=\"119.59017020308964\"/>\n<line stroke=\"rgb(0, 0, 0)\" stroke-dasharray=\"none\" stroke-width=\"1\" x1=\"287.81106550258596\" x2=\"291.81106550258596\" y1=\"119.59017020308964\" y2=\"119.59017020308964\"/>\n<line stroke=\"rgb(0, 0, 0)\" stroke-dasharray=\"none\" stroke-width=\"1\" x1=\"291.81106550258596\" x2=\"291.81106550258596\" y1=\"119.59017020308964\" y2=\"-119.59017020308964\"/>\n<line stroke=\"rgb(0, 0, 0)\" stroke-dasharray=\"none\" stroke-width=\"1\" x1=\"291.81106550258596\" x2=\"287.81106550258596\" y1=\"-119.59017020308964\" y2=\"-119.59017020308964\"/>\n<text fill=\"rgb(0, 0, 0)\" font-family=\"arial\" font-size=\"14px\" text-anchor=\"middle\" x=\"289.81106550258596\" y=\"-129.59017020308966\">9216</text>\n<line stroke=\"rgb(0, 0, 0)\" stroke-dasharray=\"none\" stroke-width=\"1\" x1=\"341.81106550258596\" x2=\"341.81106550258596\" y1=\"-13.928809012737984\" y2=\"13.928809012737984\"/>\n<line stroke=\"rgb(0, 0, 0)\" stroke-dasharray=\"none\" stroke-width=\"1\" x1=\"341.81106550258596\" x2=\"345.81106550258596\" y1=\"13.928809012737984\" y2=\"13.928809012737984\"/>\n<line stroke=\"rgb(0, 0, 0)\" stroke-dasharray=\"none\" stroke-width=\"1\" x1=\"345.81106550258596\" x2=\"345.81106550258596\" y1=\"13.928809012737984\" y2=\"-13.928809012737984\"/>\n<line stroke=\"rgb(0, 0, 0)\" stroke-dasharray=\"none\" stroke-width=\"1\" x1=\"345.81106550258596\" x2=\"341.81106550258596\" y1=\"-13.928809012737984\" y2=\"-13.928809012737984\"/>\n<text fill=\"rgb(0, 0, 0)\" font-family=\"arial\" font-size=\"14px\" text-anchor=\"middle\" x=\"343.81106550258596\" y=\"-23.928809012737986\">256</text>\n<line stroke=\"rgb(0, 0, 0)\" stroke-dasharray=\"none\" stroke-width=\"1\" x1=\"395.81106550258596\" x2=\"395.81106550258596\" y1=\"-1.9905358527674861\" y2=\"1.9905358527674861\"/>\n<line stroke=\"rgb(0, 0, 0)\" stroke-dasharray=\"none\" stroke-width=\"1\" x1=\"395.81106550258596\" x2=\"399.81106550258596\" y1=\"1.9905358527674861\" y2=\"1.9905358527674861\"/>\n<line stroke=\"rgb(0, 0, 0)\" stroke-dasharray=\"none\" stroke-width=\"1\" x1=\"399.81106550258596\" x2=\"399.81106550258596\" y1=\"1.9905358527674861\" y2=\"-1.9905358527674861\"/>\n<line stroke=\"rgb(0, 0, 0)\" stroke-dasharray=\"none\" stroke-width=\"1\" x1=\"399.81106550258596\" x2=\"395.81106550258596\" y1=\"-1.9905358527674861\" y2=\"-1.9905358527674861\"/>\n<text fill=\"rgb(0, 0, 0)\" font-family=\"arial\" font-size=\"14px\" text-anchor=\"middle\" x=\"397.81106550258596\" y=\"-11.990535852767486\">10</text>\n<line stroke=\"rgb(0, 0, 255)\" stroke-dasharray=\"none\" stroke-width=\"1\" x1=\"8.487048957087499\" x2=\"8.487048957087499\" y1=\"0.9750000000000002\" y2=\"-2.025\"/>\n<line stroke=\"rgb(0, 0, 255)\" stroke-dasharray=\"1\" stroke-width=\"1\" x1=\"9.487048957087499\" x2=\"9.487048957087499\" y1=\"0.9750000000000002\" y2=\"-2.025\"/>\n<line stroke=\"rgb(0, 0, 255)\" stroke-dasharray=\"none\" stroke-width=\"1\" x1=\"10.30570230503482\" x2=\"10.30570230503482\" y1=\"2.025\" y2=\"-0.9750000000000002\"/>\n<line stroke=\"rgb(0, 0, 255)\" stroke-dasharray=\"none\" stroke-width=\"1\" x1=\"11.30570230503482\" x2=\"11.30570230503482\" y1=\"2.025\" y2=\"-0.9750000000000002\"/>\n<line stroke=\"rgb(0, 0, 255)\" stroke-dasharray=\"none\" stroke-width=\"1\" x1=\"8.487048957087499\" x2=\"10.30570230503482\" y1=\"0.9750000000000002\" y2=\"2.025\"/>\n<line stroke=\"rgb(0, 0, 255)\" stroke-dasharray=\"none\" stroke-width=\"1\" x1=\"8.487048957087499\" x2=\"10.30570230503482\" y1=\"-2.025\" y2=\"-0.9750000000000002\"/>\n<line stroke=\"rgb(0, 0, 255)\" stroke-dasharray=\"1\" stroke-width=\"1\" x1=\"9.487048957087499\" x2=\"11.30570230503482\" y1=\"0.9750000000000002\" y2=\"2.025\"/>\n<line stroke=\"rgb(0, 0, 255)\" stroke-dasharray=\"none\" stroke-width=\"1\" x1=\"9.487048957087499\" x2=\"11.30570230503482\" y1=\"-2.025\" y2=\"-0.9750000000000002\"/>\n<line stroke=\"rgb(0, 0, 255)\" stroke-dasharray=\"1\" stroke-width=\"1\" x1=\"8.487048957087499\" x2=\"9.487048957087499\" y1=\"0.9750000000000002\" y2=\"0.9750000000000002\"/>\n<line stroke=\"rgb(0, 0, 255)\" stroke-dasharray=\"none\" stroke-width=\"1\" x1=\"10.30570230503482\" x2=\"11.30570230503482\" y1=\"2.025\" y2=\"2.025\"/>\n<line stroke=\"rgb(0, 0, 255)\" stroke-dasharray=\"none\" stroke-width=\"1\" x1=\"8.487048957087499\" x2=\"9.487048957087499\" y1=\"-2.025\" y2=\"-2.025\"/>\n<line stroke=\"rgb(0, 0, 255)\" stroke-dasharray=\"none\" stroke-width=\"1\" x1=\"10.30570230503482\" x2=\"11.30570230503482\" y1=\"-0.9750000000000002\" y2=\"-0.9750000000000002\"/>\n<line stroke=\"rgb(0, 0, 255)\" stroke-dasharray=\"none\" stroke-width=\"1\" x1=\"9.487048957087499\" x2=\"71.91451350139418\" y1=\"-2.025\" y2=\"-8.774999999999999\"/>\n<line stroke=\"rgb(0, 0, 255)\" stroke-dasharray=\"none\" stroke-width=\"1\" x1=\"11.30570230503482\" x2=\"71.91451350139418\" y1=\"2.025\" y2=\"-8.774999999999999\"/>\n<text fill=\"rgb(0, 0, 0)\" font-family=\"arial\" font-size=\"14px\" text-anchor=\"middle\" x=\"42.97409791417499\" y=\"42.9\">conv3x3, 32</text>\n<text fill=\"rgb(0, 0, 0)\" font-family=\"arial\" font-size=\"14px\" text-anchor=\"middle\" x=\"42.97409791417499\" y=\"56.9\">stride (1, 1)</text>\n<line stroke=\"rgb(0, 0, 255)\" stroke-dasharray=\"none\" stroke-width=\"1\" x1=\"75.85492908861339\" x2=\"75.85492908861339\" y1=\"0.9750000000000002\" y2=\"-2.025\"/>\n<line stroke=\"rgb(0, 0, 255)\" stroke-dasharray=\"1\" stroke-width=\"1\" x1=\"83.85492908861339\" x2=\"83.85492908861339\" y1=\"0.9750000000000002\" y2=\"-2.025\"/>\n<line stroke=\"rgb(0, 0, 255)\" stroke-dasharray=\"none\" stroke-width=\"1\" x1=\"77.67358243656071\" x2=\"77.67358243656071\" y1=\"2.025\" y2=\"-0.9750000000000002\"/>\n<line stroke=\"rgb(0, 0, 255)\" stroke-dasharray=\"none\" stroke-width=\"1\" x1=\"85.67358243656071\" x2=\"85.67358243656071\" y1=\"2.025\" y2=\"-0.9750000000000002\"/>\n<line stroke=\"rgb(0, 0, 255)\" stroke-dasharray=\"none\" stroke-width=\"1\" x1=\"75.85492908861339\" x2=\"77.67358243656071\" y1=\"0.9750000000000002\" y2=\"2.025\"/>\n<line stroke=\"rgb(0, 0, 255)\" stroke-dasharray=\"none\" stroke-width=\"1\" x1=\"75.85492908861339\" x2=\"77.67358243656071\" y1=\"-2.025\" y2=\"-0.9750000000000002\"/>\n<line stroke=\"rgb(0, 0, 255)\" stroke-dasharray=\"1\" stroke-width=\"1\" x1=\"83.85492908861339\" x2=\"85.67358243656071\" y1=\"0.9750000000000002\" y2=\"2.025\"/>\n<line stroke=\"rgb(0, 0, 255)\" stroke-dasharray=\"none\" stroke-width=\"1\" x1=\"83.85492908861339\" x2=\"85.67358243656071\" y1=\"-2.025\" y2=\"-0.9750000000000002\"/>\n<line stroke=\"rgb(0, 0, 255)\" stroke-dasharray=\"1\" stroke-width=\"1\" x1=\"75.85492908861339\" x2=\"83.85492908861339\" y1=\"0.9750000000000002\" y2=\"0.9750000000000002\"/>\n<line stroke=\"rgb(0, 0, 255)\" stroke-dasharray=\"none\" stroke-width=\"1\" x1=\"77.67358243656071\" x2=\"85.67358243656071\" y1=\"2.025\" y2=\"2.025\"/>\n<line stroke=\"rgb(0, 0, 255)\" stroke-dasharray=\"none\" stroke-width=\"1\" x1=\"75.85492908861339\" x2=\"83.85492908861339\" y1=\"-2.025\" y2=\"-2.025\"/>\n<line stroke=\"rgb(0, 0, 255)\" stroke-dasharray=\"none\" stroke-width=\"1\" x1=\"77.67358243656071\" x2=\"85.67358243656071\" y1=\"-0.9750000000000002\" y2=\"-0.9750000000000002\"/>\n<line stroke=\"rgb(0, 0, 255)\" stroke-dasharray=\"none\" stroke-width=\"1\" x1=\"83.85492908861339\" x2=\"145.3730669589464\" y1=\"-2.025\" y2=\"-8.1\"/>\n<line stroke=\"rgb(0, 0, 255)\" stroke-dasharray=\"none\" stroke-width=\"1\" x1=\"85.67358243656071\" x2=\"145.3730669589464\" y1=\"2.025\" y2=\"-8.1\"/>\n<text fill=\"rgb(0, 0, 0)\" font-family=\"arial\" font-size=\"14px\" text-anchor=\"middle\" x=\"116.73576026305176\" y=\"41.55\">conv3x3, 64</text>\n<text fill=\"rgb(0, 0, 0)\" font-family=\"arial\" font-size=\"14px\" text-anchor=\"middle\" x=\"116.73576026305176\" y=\"55.55\">stride (1, 1)</text>\n<line stroke=\"rgb(0, 0, 255)\" stroke-dasharray=\"none\" stroke-width=\"1\" x1=\"149.01037365484103\" x2=\"149.01037365484103\" y1=\"0.6500000000000001\" y2=\"-1.3499999999999999\"/>\n<line stroke=\"rgb(0, 0, 255)\" stroke-dasharray=\"1\" stroke-width=\"1\" x1=\"161.13610618692422\" x2=\"161.13610618692422\" y1=\"0.6500000000000001\" y2=\"-1.3499999999999999\"/>\n<line stroke=\"rgb(0, 0, 255)\" stroke-dasharray=\"none\" stroke-width=\"1\" x1=\"150.22280922013925\" x2=\"150.22280922013925\" y1=\"1.35\" y2=\"-0.6500000000000001\"/>\n<line stroke=\"rgb(0, 0, 255)\" stroke-dasharray=\"none\" stroke-width=\"1\" x1=\"162.34854175222245\" x2=\"162.34854175222245\" y1=\"1.35\" y2=\"-0.6500000000000001\"/>\n<line stroke=\"rgb(0, 0, 255)\" stroke-dasharray=\"none\" stroke-width=\"1\" x1=\"149.01037365484103\" x2=\"150.22280922013925\" y1=\"0.6500000000000001\" y2=\"1.35\"/>\n<line stroke=\"rgb(0, 0, 255)\" stroke-dasharray=\"none\" stroke-width=\"1\" x1=\"149.01037365484103\" x2=\"150.22280922013925\" y1=\"-1.3499999999999999\" y2=\"-0.6500000000000001\"/>\n<line stroke=\"rgb(0, 0, 255)\" stroke-dasharray=\"1\" stroke-width=\"1\" x1=\"161.13610618692422\" x2=\"162.34854175222245\" y1=\"0.6500000000000001\" y2=\"1.35\"/>\n<line stroke=\"rgb(0, 0, 255)\" stroke-dasharray=\"none\" stroke-width=\"1\" x1=\"161.13610618692422\" x2=\"162.34854175222245\" y1=\"-1.3499999999999999\" y2=\"-0.6500000000000001\"/>\n<line stroke=\"rgb(0, 0, 255)\" stroke-dasharray=\"1\" stroke-width=\"1\" x1=\"149.01037365484103\" x2=\"161.13610618692422\" y1=\"0.6500000000000001\" y2=\"0.6500000000000001\"/>\n<line stroke=\"rgb(0, 0, 255)\" stroke-dasharray=\"none\" stroke-width=\"1\" x1=\"150.22280922013925\" x2=\"162.34854175222245\" y1=\"1.35\" y2=\"1.35\"/>\n<line stroke=\"rgb(0, 0, 255)\" stroke-dasharray=\"none\" stroke-width=\"1\" x1=\"149.01037365484103\" x2=\"161.13610618692422\" y1=\"-1.3499999999999999\" y2=\"-1.3499999999999999\"/>\n<line stroke=\"rgb(0, 0, 255)\" stroke-dasharray=\"none\" stroke-width=\"1\" x1=\"150.22280922013925\" x2=\"162.34854175222245\" y1=\"-0.6500000000000001\" y2=\"-0.6500000000000001\"/>\n<line stroke=\"rgb(0, 0, 255)\" stroke-dasharray=\"none\" stroke-width=\"1\" x1=\"161.13610618692422\" x2=\"220.22937292666086\" y1=\"-1.35\" y2=\"-4.05\"/>\n<line stroke=\"rgb(0, 0, 255)\" stroke-dasharray=\"none\" stroke-width=\"1\" x1=\"162.34854175222245\" x2=\"220.22937292666086\" y1=\"1.3499999999999999\" y2=\"-4.05\"/>\n<text fill=\"rgb(0, 0, 0)\" font-family=\"arial\" font-size=\"14px\" text-anchor=\"middle\" x=\"193.41071957871353\" y=\"40.2\">maxpool2x2</text>\n<text fill=\"rgb(0, 0, 0)\" font-family=\"arial\" font-size=\"14px\" text-anchor=\"middle\" x=\"193.41071957871353\" y=\"54.2\">stride (2, 2)</text>\n<text fill=\"rgb(0, 0, 0)\" font-family=\"arial\" font-size=\"14px\" text-anchor=\"middle\" x=\"262.81106550258596\" y=\"143.59017020308966\">flatten</text>\n<line stroke=\"rgb(0, 0, 255)\" stroke-dasharray=\"2\" stroke-width=\"1\" x1=\"291.81106550258596\" x2=\"341.81106550258596\" y1=\"-119.59017020308964\" y2=\"-6.964404506368992\"/>\n<line stroke=\"rgb(0, 0, 255)\" stroke-dasharray=\"2\" stroke-width=\"1\" x1=\"291.81106550258596\" x2=\"341.81106550258596\" y1=\"119.59017020308964\" y2=\"-6.964404506368992\"/>\n<text fill=\"rgb(0, 0, 0)\" font-family=\"arial\" font-size=\"14px\" text-anchor=\"middle\" x=\"316.81106550258596\" y=\"143.59017020308966\">dense</text>\n<line stroke=\"rgb(0, 0, 255)\" stroke-dasharray=\"2\" stroke-width=\"1\" x1=\"345.81106550258596\" x2=\"395.81106550258596\" y1=\"-13.928809012737984\" y2=\"-0.9952679263837431\"/>\n<line stroke=\"rgb(0, 0, 255)\" stroke-dasharray=\"2\" stroke-width=\"1\" x1=\"345.81106550258596\" x2=\"395.81106550258596\" y1=\"13.928809012737984\" y2=\"-0.9952679263837431\"/>\n<text fill=\"rgb(0, 0, 0)\" font-family=\"arial\" font-size=\"14px\" text-anchor=\"middle\" x=\"370.81106550258596\" y=\"37.928809012737986\">dense</text>\n</svg>"
          },
          "metadata": {
            "tags": []
          }
        }
      ]
    },
    {
      "cell_type": "code",
      "metadata": {
        "id": "OI4UDcU60bH7",
        "colab_type": "code",
        "colab": {}
      },
      "source": [
        "# モデルの学習方法について指定しておく\n",
        "model.compile(loss='categorical_crossentropy',\n",
        "              optimizer='sgd',\n",
        "              metrics=['accuracy'])"
      ],
      "execution_count": 0,
      "outputs": []
    },
    {
      "cell_type": "code",
      "metadata": {
        "id": "s80FRVRL0bH-",
        "colab_type": "code",
        "colab": {
          "base_uri": "https://localhost:8080/",
          "height": 508
        },
        "outputId": "a9bf3032-faa3-4273-9721-99f93604627f"
      },
      "source": [
        "# TensorBoardでの可視化のため、出力先の設定\n",
        "import os, shutil\n",
        "if os.path.exists(\"./logs\"):\n",
        "    shutil.rmtree(\"./logs\")\n",
        "\n",
        "from tensorflow.keras import callbacks\n",
        "#tb_cb = callbacks.TensorBoard(log_dir=\"./logs/\", histogram_freq=1,write_images=1,write_grads=True,embeddings_freq=1)\n",
        "tb_cb = callbacks.TensorBoard(log_dir=\"./logs/\", histogram_freq=1,write_images=1)\n",
        "cbks = [tb_cb]\n",
        "\n",
        "# モデルのサマリ情報の表示\n",
        "model.summary()"
      ],
      "execution_count": 11,
      "outputs": [
        {
          "output_type": "stream",
          "text": [
            "_________________________________________________________________\n",
            "Layer (type)                 Output Shape              Param #   \n",
            "=================================================================\n",
            "conv2d (Conv2D)              (None, 26, 26, 32)        320       \n",
            "_________________________________________________________________\n",
            "activation (Activation)      (None, 26, 26, 32)        0         \n",
            "_________________________________________________________________\n",
            "conv2d_1 (Conv2D)            (None, 24, 24, 64)        18496     \n",
            "_________________________________________________________________\n",
            "activation_1 (Activation)    (None, 24, 24, 64)        0         \n",
            "_________________________________________________________________\n",
            "max_pooling2d (MaxPooling2D) (None, 12, 12, 64)        0         \n",
            "_________________________________________________________________\n",
            "flatten (Flatten)            (None, 9216)              0         \n",
            "_________________________________________________________________\n",
            "dense (Dense)                (None, 256)               2359552   \n",
            "_________________________________________________________________\n",
            "activation_2 (Activation)    (None, 256)               0         \n",
            "_________________________________________________________________\n",
            "dense_1 (Dense)              (None, 10)                2570      \n",
            "_________________________________________________________________\n",
            "activation_3 (Activation)    (None, 10)                0         \n",
            "=================================================================\n",
            "Total params: 2,380,938\n",
            "Trainable params: 2,380,938\n",
            "Non-trainable params: 0\n",
            "_________________________________________________________________\n"
          ],
          "name": "stdout"
        }
      ]
    },
    {
      "cell_type": "markdown",
      "metadata": {
        "id": "6_yBnQiN0bID",
        "colab_type": "text"
      },
      "source": [
        "### 1.1.2 モデルの学習\n",
        "\n",
        "1.2.1で構築したモデルで実際に学習を行うには、Sequential.fit関数を用います。この関数は固定長のバッチで学習を行います。\n",
        "\n",
        "主な引数は次の通りです。\n",
        "\n",
        "* x：学習に使用する入力データ\n",
        "* y：学習に使用する出力データ\n",
        "* batch_size：学習中のパラメータ更新を1回行うにあたって用いるサンプル数（ミニバッチのサイズ）\n",
        "* epochs：学習のエポック数\n",
        "* verbose：学習のログを出力するか（0:しない、1：バーで出力、2:エポックごとに出力）\n",
        "* validation_split/validation_data：検証用に用いるデータの割合（0～１の実数）、または検証用データそのもの（いずれかのみ指定可能）\n",
        "* shuffle：各エポックごとにデータをシャッフルするか\n",
        "* callbacks：訓練中のモデルの挙動を監視できるcallback関数を指定できます"
      ]
    },
    {
      "cell_type": "code",
      "metadata": {
        "scrolled": false,
        "id": "_IQUEb790bIE",
        "colab_type": "code",
        "colab": {
          "base_uri": "https://localhost:8080/",
          "height": 855
        },
        "outputId": "54c4e21b-3c71-49d2-c55c-5fcd0836c39b"
      },
      "source": [
        "#model.fit(x_train, y_train,\n",
        "#          batch_size=1000, epochs=10, verbose=1,\n",
        "#          validation_data=(x_test, y_test))\n",
        "#print(y_test.shape)\n",
        "epochs=20\n",
        "result = model.fit(x_train, y_train,\n",
        "          batch_size=1000, epochs=epochs, verbose=1,callbacks=cbks,\n",
        "          validation_data=(x_test, y_test))"
      ],
      "execution_count": 12,
      "outputs": [
        {
          "output_type": "stream",
          "text": [
            "Train on 60000 samples, validate on 10000 samples\n",
            "WARNING:tensorflow:From /usr/local/lib/python3.6/dist-packages/tensorflow/python/ops/math_ops.py:3066: to_int32 (from tensorflow.python.ops.math_ops) is deprecated and will be removed in a future version.\n",
            "Instructions for updating:\n",
            "Use tf.cast instead.\n",
            "Epoch 1/20\n",
            "60000/60000 [==============================] - 36s 607us/sample - loss: 7.8446 - acc: 0.4329 - val_loss: 0.3340 - val_acc: 0.9031\n",
            "Epoch 2/20\n",
            "60000/60000 [==============================] - 32s 539us/sample - loss: 0.2149 - acc: 0.9359 - val_loss: 0.1435 - val_acc: 0.9585\n",
            "Epoch 3/20\n",
            "60000/60000 [==============================] - 32s 525us/sample - loss: 0.1246 - acc: 0.9625 - val_loss: 0.1046 - val_acc: 0.9707\n",
            "Epoch 4/20\n",
            "60000/60000 [==============================] - 32s 531us/sample - loss: 0.0914 - acc: 0.9730 - val_loss: 0.0851 - val_acc: 0.9750\n",
            "Epoch 5/20\n",
            "60000/60000 [==============================] - 32s 541us/sample - loss: 0.0727 - acc: 0.9788 - val_loss: 0.0739 - val_acc: 0.9786\n",
            "Epoch 6/20\n",
            "60000/60000 [==============================] - 32s 530us/sample - loss: 0.0611 - acc: 0.9820 - val_loss: 0.0667 - val_acc: 0.9789\n",
            "Epoch 7/20\n",
            "60000/60000 [==============================] - 32s 540us/sample - loss: 0.0518 - acc: 0.9847 - val_loss: 0.0639 - val_acc: 0.9795\n",
            "Epoch 8/20\n",
            "60000/60000 [==============================] - 32s 542us/sample - loss: 0.0451 - acc: 0.9869 - val_loss: 0.0599 - val_acc: 0.9812\n",
            "Epoch 9/20\n",
            "60000/60000 [==============================] - 32s 525us/sample - loss: 0.0390 - acc: 0.9889 - val_loss: 0.0550 - val_acc: 0.9825\n",
            "Epoch 10/20\n",
            "60000/60000 [==============================] - 32s 538us/sample - loss: 0.0338 - acc: 0.9906 - val_loss: 0.0537 - val_acc: 0.9830\n",
            "Epoch 11/20\n",
            "59000/60000 [============================>.] - ETA: 0s - loss: 0.0300 - acc: 0.9919"
          ],
          "name": "stdout"
        },
        {
          "output_type": "error",
          "ename": "KeyboardInterrupt",
          "evalue": "ignored",
          "traceback": [
            "\u001b[0;31m---------------------------------------------------------------------------\u001b[0m",
            "\u001b[0;31mKeyboardInterrupt\u001b[0m                         Traceback (most recent call last)",
            "\u001b[0;32m<ipython-input-12-56824ea38181>\u001b[0m in \u001b[0;36m<module>\u001b[0;34m()\u001b[0m\n\u001b[1;32m      2\u001b[0m result = model.fit(x_train, y_train,\n\u001b[1;32m      3\u001b[0m           \u001b[0mbatch_size\u001b[0m\u001b[0;34m=\u001b[0m\u001b[0;36m1000\u001b[0m\u001b[0;34m,\u001b[0m \u001b[0mepochs\u001b[0m\u001b[0;34m=\u001b[0m\u001b[0mepochs\u001b[0m\u001b[0;34m,\u001b[0m \u001b[0mverbose\u001b[0m\u001b[0;34m=\u001b[0m\u001b[0;36m1\u001b[0m\u001b[0;34m,\u001b[0m\u001b[0mcallbacks\u001b[0m\u001b[0;34m=\u001b[0m\u001b[0mcbks\u001b[0m\u001b[0;34m,\u001b[0m\u001b[0;34m\u001b[0m\u001b[0;34m\u001b[0m\u001b[0m\n\u001b[0;32m----> 4\u001b[0;31m           validation_data=(x_test, y_test))\n\u001b[0m",
            "\u001b[0;32m/usr/local/lib/python3.6/dist-packages/tensorflow/python/keras/engine/training.py\u001b[0m in \u001b[0;36mfit\u001b[0;34m(self, x, y, batch_size, epochs, verbose, callbacks, validation_split, validation_data, shuffle, class_weight, sample_weight, initial_epoch, steps_per_epoch, validation_steps, max_queue_size, workers, use_multiprocessing, **kwargs)\u001b[0m\n\u001b[1;32m    878\u001b[0m           \u001b[0minitial_epoch\u001b[0m\u001b[0;34m=\u001b[0m\u001b[0minitial_epoch\u001b[0m\u001b[0;34m,\u001b[0m\u001b[0;34m\u001b[0m\u001b[0;34m\u001b[0m\u001b[0m\n\u001b[1;32m    879\u001b[0m           \u001b[0msteps_per_epoch\u001b[0m\u001b[0;34m=\u001b[0m\u001b[0msteps_per_epoch\u001b[0m\u001b[0;34m,\u001b[0m\u001b[0;34m\u001b[0m\u001b[0;34m\u001b[0m\u001b[0m\n\u001b[0;32m--> 880\u001b[0;31m           validation_steps=validation_steps)\n\u001b[0m\u001b[1;32m    881\u001b[0m \u001b[0;34m\u001b[0m\u001b[0m\n\u001b[1;32m    882\u001b[0m   def evaluate(self,\n",
            "\u001b[0;32m/usr/local/lib/python3.6/dist-packages/tensorflow/python/keras/engine/training_arrays.py\u001b[0m in \u001b[0;36mmodel_iteration\u001b[0;34m(model, inputs, targets, sample_weights, batch_size, epochs, verbose, callbacks, val_inputs, val_targets, val_sample_weights, shuffle, initial_epoch, steps_per_epoch, validation_steps, mode, validation_in_fit, **kwargs)\u001b[0m\n\u001b[1;32m    362\u001b[0m           \u001b[0mverbose\u001b[0m\u001b[0;34m=\u001b[0m\u001b[0;36m0\u001b[0m\u001b[0;34m,\u001b[0m\u001b[0;34m\u001b[0m\u001b[0;34m\u001b[0m\u001b[0m\n\u001b[1;32m    363\u001b[0m           \u001b[0mmode\u001b[0m\u001b[0;34m=\u001b[0m\u001b[0;34m'test'\u001b[0m\u001b[0;34m,\u001b[0m\u001b[0;34m\u001b[0m\u001b[0;34m\u001b[0m\u001b[0m\n\u001b[0;32m--> 364\u001b[0;31m           validation_in_fit=True)\n\u001b[0m\u001b[1;32m    365\u001b[0m       \u001b[0;32mif\u001b[0m \u001b[0;32mnot\u001b[0m \u001b[0misinstance\u001b[0m\u001b[0;34m(\u001b[0m\u001b[0mval_results\u001b[0m\u001b[0;34m,\u001b[0m \u001b[0mlist\u001b[0m\u001b[0;34m)\u001b[0m\u001b[0;34m:\u001b[0m\u001b[0;34m\u001b[0m\u001b[0;34m\u001b[0m\u001b[0m\n\u001b[1;32m    366\u001b[0m         \u001b[0mval_results\u001b[0m \u001b[0;34m=\u001b[0m \u001b[0;34m[\u001b[0m\u001b[0mval_results\u001b[0m\u001b[0;34m]\u001b[0m\u001b[0;34m\u001b[0m\u001b[0;34m\u001b[0m\u001b[0m\n",
            "\u001b[0;32m/usr/local/lib/python3.6/dist-packages/tensorflow/python/keras/engine/training_arrays.py\u001b[0m in \u001b[0;36mmodel_iteration\u001b[0;34m(model, inputs, targets, sample_weights, batch_size, epochs, verbose, callbacks, val_inputs, val_targets, val_sample_weights, shuffle, initial_epoch, steps_per_epoch, validation_steps, mode, validation_in_fit, **kwargs)\u001b[0m\n\u001b[1;32m    327\u001b[0m \u001b[0;34m\u001b[0m\u001b[0m\n\u001b[1;32m    328\u001b[0m         \u001b[0;31m# Get outputs.\u001b[0m\u001b[0;34m\u001b[0m\u001b[0;34m\u001b[0m\u001b[0;34m\u001b[0m\u001b[0m\n\u001b[0;32m--> 329\u001b[0;31m         \u001b[0mbatch_outs\u001b[0m \u001b[0;34m=\u001b[0m \u001b[0mf\u001b[0m\u001b[0;34m(\u001b[0m\u001b[0mins_batch\u001b[0m\u001b[0;34m)\u001b[0m\u001b[0;34m\u001b[0m\u001b[0;34m\u001b[0m\u001b[0m\n\u001b[0m\u001b[1;32m    330\u001b[0m         \u001b[0;32mif\u001b[0m \u001b[0;32mnot\u001b[0m \u001b[0misinstance\u001b[0m\u001b[0;34m(\u001b[0m\u001b[0mbatch_outs\u001b[0m\u001b[0;34m,\u001b[0m \u001b[0mlist\u001b[0m\u001b[0;34m)\u001b[0m\u001b[0;34m:\u001b[0m\u001b[0;34m\u001b[0m\u001b[0;34m\u001b[0m\u001b[0m\n\u001b[1;32m    331\u001b[0m           \u001b[0mbatch_outs\u001b[0m \u001b[0;34m=\u001b[0m \u001b[0;34m[\u001b[0m\u001b[0mbatch_outs\u001b[0m\u001b[0;34m]\u001b[0m\u001b[0;34m\u001b[0m\u001b[0;34m\u001b[0m\u001b[0m\n",
            "\u001b[0;32m/usr/local/lib/python3.6/dist-packages/tensorflow/python/keras/backend.py\u001b[0m in \u001b[0;36m__call__\u001b[0;34m(self, inputs)\u001b[0m\n\u001b[1;32m   3074\u001b[0m \u001b[0;34m\u001b[0m\u001b[0m\n\u001b[1;32m   3075\u001b[0m     fetched = self._callable_fn(*array_vals,\n\u001b[0;32m-> 3076\u001b[0;31m                                 run_metadata=self.run_metadata)\n\u001b[0m\u001b[1;32m   3077\u001b[0m     \u001b[0mself\u001b[0m\u001b[0;34m.\u001b[0m\u001b[0m_call_fetch_callbacks\u001b[0m\u001b[0;34m(\u001b[0m\u001b[0mfetched\u001b[0m\u001b[0;34m[\u001b[0m\u001b[0;34m-\u001b[0m\u001b[0mlen\u001b[0m\u001b[0;34m(\u001b[0m\u001b[0mself\u001b[0m\u001b[0;34m.\u001b[0m\u001b[0m_fetches\u001b[0m\u001b[0;34m)\u001b[0m\u001b[0;34m:\u001b[0m\u001b[0;34m]\u001b[0m\u001b[0;34m)\u001b[0m\u001b[0;34m\u001b[0m\u001b[0;34m\u001b[0m\u001b[0m\n\u001b[1;32m   3078\u001b[0m     return nest.pack_sequence_as(self._outputs_structure,\n",
            "\u001b[0;32m/usr/local/lib/python3.6/dist-packages/tensorflow/python/client/session.py\u001b[0m in \u001b[0;36m__call__\u001b[0;34m(self, *args, **kwargs)\u001b[0m\n\u001b[1;32m   1437\u001b[0m           ret = tf_session.TF_SessionRunCallable(\n\u001b[1;32m   1438\u001b[0m               \u001b[0mself\u001b[0m\u001b[0;34m.\u001b[0m\u001b[0m_session\u001b[0m\u001b[0;34m.\u001b[0m\u001b[0m_session\u001b[0m\u001b[0;34m,\u001b[0m \u001b[0mself\u001b[0m\u001b[0;34m.\u001b[0m\u001b[0m_handle\u001b[0m\u001b[0;34m,\u001b[0m \u001b[0margs\u001b[0m\u001b[0;34m,\u001b[0m \u001b[0mstatus\u001b[0m\u001b[0;34m,\u001b[0m\u001b[0;34m\u001b[0m\u001b[0;34m\u001b[0m\u001b[0m\n\u001b[0;32m-> 1439\u001b[0;31m               run_metadata_ptr)\n\u001b[0m\u001b[1;32m   1440\u001b[0m         \u001b[0;32mif\u001b[0m \u001b[0mrun_metadata\u001b[0m\u001b[0;34m:\u001b[0m\u001b[0;34m\u001b[0m\u001b[0;34m\u001b[0m\u001b[0m\n\u001b[1;32m   1441\u001b[0m           \u001b[0mproto_data\u001b[0m \u001b[0;34m=\u001b[0m \u001b[0mtf_session\u001b[0m\u001b[0;34m.\u001b[0m\u001b[0mTF_GetBuffer\u001b[0m\u001b[0;34m(\u001b[0m\u001b[0mrun_metadata_ptr\u001b[0m\u001b[0;34m)\u001b[0m\u001b[0;34m\u001b[0m\u001b[0;34m\u001b[0m\u001b[0m\n",
            "\u001b[0;31mKeyboardInterrupt\u001b[0m: "
          ]
        }
      ]
    },
    {
      "cell_type": "markdown",
      "metadata": {
        "id": "XCLIozIF0bIJ",
        "colab_type": "text"
      },
      "source": [
        "モデルの評価を行うには、Sequential.evaluate関数を用います。この関数は固定長のバッチごとに損失関数値または評価関数値を出力します。\n",
        "\n",
        "主な引数は次の通りです。\n",
        "\n",
        "* x：評価に使用する入力データ\n",
        "* y：評価に使用する出力データ\n",
        "* batch_size：1回の評価を行うにあたって用いるサンプル数\n",
        "* verbose：評価のログを出力するか（0:しない、1：する(デフォルト)）"
      ]
    },
    {
      "cell_type": "code",
      "metadata": {
        "id": "Ys0GtCR60bIK",
        "colab_type": "code",
        "colab": {}
      },
      "source": [
        "score = model.evaluate(x_test, y_test, verbose=0)\n",
        "print('Test loss:', score[0])\n",
        "print('Test accuracy:', score[1])"
      ],
      "execution_count": 0,
      "outputs": []
    },
    {
      "cell_type": "code",
      "metadata": {
        "id": "UB8isRg_hfGT",
        "colab_type": "code",
        "colab": {}
      },
      "source": [
        "result.history.keys() # ヒストリデータのラベルを見てみる\n",
        "plt.plot(range(1, epochs+1), result.history['acc'], label=\"training\")\n",
        "plt.plot(range(1, epochs+1), result.history['val_acc'], label=\"validation\")\n",
        "plt.xlabel('Epochs')\n",
        "plt.ylabel('Accuracy')\n",
        "plt.legend()\n",
        "plt.xlim([1,epochs])\n",
        "plt.ylim([0,1])\n",
        "plt.show()\n"
      ],
      "execution_count": 0,
      "outputs": []
    },
    {
      "cell_type": "markdown",
      "metadata": {
        "id": "Zq7fmArk0bIN",
        "colab_type": "text"
      },
      "source": [
        "### 1.1.3 モデルによる予測\n",
        "\n",
        "1.2.2で学習させたモデルによって予測を行ってみましょう。Sequential.predict関数によって予測が行えます。\n",
        "\n",
        "主な引数は次の通りです。\n",
        "\n",
        "* x_test：予測に使用する入力データ\n",
        "* batch_size：まとめて1度に予測を行うサンプル数\n",
        "* verbose：評価のログを出力するか（0:しない(デフォルト)、1：する）"
      ]
    },
    {
      "cell_type": "code",
      "metadata": {
        "id": "m7CJSTL50bIN",
        "colab_type": "code",
        "colab": {}
      },
      "source": [
        "classes = model.predict(x_test, batch_size=128, verbose=1)"
      ],
      "execution_count": 0,
      "outputs": []
    },
    {
      "cell_type": "code",
      "metadata": {
        "id": "5sTY0plvOe-2",
        "colab_type": "code",
        "colab": {}
      },
      "source": [
        "# データセットの推論結果と元画像を確認\n",
        "# test_numを0～9999で指定してください\n",
        "test_num=1001\n",
        "test_img = np.squeeze(x_test[test_num])\n",
        "if not model_structure==\"CNN\":\n",
        "    test_img = test_img.reshape(28, 28).astype(np.float32)\n",
        "\n",
        "print(test_img)\n",
        "test_img = 255 - test_img\n",
        "\n",
        "print(\"推論結果：\"+str(classes[test_num].argmax()))\n",
        "plt.imshow(test_img,'gray')"
      ],
      "execution_count": 0,
      "outputs": []
    },
    {
      "cell_type": "markdown",
      "metadata": {
        "id": "_B2-3A2nVfuj",
        "colab_type": "text"
      },
      "source": [
        "自分で手書きした画像を推論させてみましょう。\n",
        "\n",
        "手書きファイルをアップロードし、ファイル名を指定して実行します。"
      ]
    },
    {
      "cell_type": "code",
      "metadata": {
        "id": "oZ8gMryWuxfh",
        "colab_type": "code",
        "colab": {}
      },
      "source": [
        "# サンプルデータのダウンロード\n",
        "!wget https://raw.githubusercontent.com/scpepper69/dl4us/master/lesson1/mnist.zip\n",
        "!unzip mnist.zip"
      ],
      "execution_count": 0,
      "outputs": []
    },
    {
      "cell_type": "code",
      "metadata": {
        "id": "uDEx3_iRNpGK",
        "colab_type": "code",
        "colab": {}
      },
      "source": [
        "import cv2\n",
        "    \n",
        "# Google Colabにファイルをアップロード\n",
        "# アップロードしたファイルを指定\n",
        "img_path=\"./four001.png\"\n",
        "img = cv2.imread(img_path,cv2.IMREAD_GRAYSCALE)\n",
        "plt.imshow(img,'gray')\n",
        "\n",
        "img = 255 - img #白黒反転\n",
        "img = cv2.resize(img, dsize=(28,28)) # 28 x 28にサイズ変更\n",
        "img = img.astype(np.float32)\n",
        "print(img)\n",
        "\n",
        "if model_structure==\"CNN\":\n",
        "    img = img.reshape(1, 28, 28 ,1) # 2次元から4次元に変換\n",
        "else:    \n",
        "    img = img.reshape(1, 784).astype(np.float32)\n",
        "\n",
        "pred = model.predict(img,verbose=1)\n",
        "\n",
        "# 推論処理\n",
        "print(\"推論結果：\"+str(pred.argmax()))"
      ],
      "execution_count": 0,
      "outputs": []
    },
    {
      "cell_type": "code",
      "metadata": {
        "id": "lVxresNopyLM",
        "colab_type": "code",
        "colab": {}
      },
      "source": [
        "from tensorflow.keras import backend as K\n",
        "import matplotlib.pyplot as plt\n",
        "from PIL import Image\n",
        "\n",
        "# 中間層の特徴マップを出力する\n",
        "def middle_layer_output(numlay, INPDATA):\n",
        "    get_layer = K.function([model.layers[0].input], [model.layers[numlay].output])\n",
        "    layer_output_comp = get_layer([INPDATA])[0]\n",
        "    if layer_output_comp.ndim == 4:\n",
        "        dim_n = layer_output_comp.shape[0]\n",
        "        dim_x = layer_output_comp.shape[1]\n",
        "        dim_y = layer_output_comp.shape[2]\n",
        "        dim_z = layer_output_comp.shape[3]\n",
        "    else:\n",
        "        dim_n = layer_output_comp.shape[0]\n",
        "        dim_z = layer_output_comp.shape[1]\n",
        "\n",
        "    #中間層の出力を図化する\n",
        "    plt.figure()\n",
        "    for num_pic in range(dim_n):\n",
        "        if layer_output_comp.ndim == 4:\n",
        "            for num_map in range(dim_z):\n",
        "                img = layer_output_comp[num_pic, :, :, num_map]\n",
        "                img = Image.fromarray(np.uint8(img))\n",
        "                plt.subplot(8,8,num_map+1)\n",
        "                plt.axis('off')\n",
        "                plt.imshow(img, cmap='gray')\n",
        "    \n",
        "        else:\n",
        "#            dims = int(np.sqrt(len(layer_output_comp[0])))\n",
        "            dims = int(len(layer_output_comp[0]))\n",
        "            img = layer_output_comp[num_pic, :]\n",
        "#            img = img.reshape(dims, dims).astype(np.float32)\n",
        "            img = img.reshape(dims, 1).astype(np.float32)\n",
        "            plt.axis('off')\n",
        "            plt.imshow(img, cmap='gray')\n",
        "\n",
        "# レイヤーごとの特徴マップの出力\n",
        "for layers in range(len(model.layers)-2):\n",
        "    middle_layer_output(layers, img)\n"
      ],
      "execution_count": 0,
      "outputs": []
    },
    {
      "cell_type": "markdown",
      "metadata": {
        "id": "iIXwHVGJ0bIP",
        "colab_type": "text"
      },
      "source": [
        "### 1.1.4 モデルの可視化\n",
        "\n",
        "1.1.1で作成したモデルをTensorBoardをにて参照してみます。"
      ]
    },
    {
      "cell_type": "code",
      "metadata": {
        "id": "Pyx_anHq0bIQ",
        "colab_type": "code",
        "colab": {}
      },
      "source": [
        "# Web参照のため、ngrokを利用\n",
        "if not os.path.exists('./ngrok'):\n",
        "    !wget https://bin.equinox.io/c/4VmDzA7iaHb/ngrok-stable-linux-amd64.zip\n",
        "    !unzip ngrok-stable-linux-amd64.zip\n",
        "\n",
        "# TensorBoardおよびngrokの起動\n",
        "import subprocess\n",
        "cmd = \"tensorboard --logdir=./logs --host 0.0.0.0 --port 6006 &\"\n",
        "proc_tb = subprocess.call(cmd, shell=True)\n",
        "\n",
        "cmd = \"./ngrok http 6006 &\"\n",
        "proc_ng = subprocess.call(cmd, shell=True)\n",
        "\n",
        "# TensorBoard URL\n",
        "!curl -s http://localhost:4040/api/tunnels | python -c \"import sys, json; print(json.load(sys.stdin)['tunnels'][0]['public_url'])\""
      ],
      "execution_count": 0,
      "outputs": []
    },
    {
      "cell_type": "code",
      "metadata": {
        "id": "nH37JEOU0bIU",
        "colab_type": "code",
        "colab": {}
      },
      "source": [
        "# TensorBoardプロセスの停止\n",
        "#!ps -ef | grep tensorboard | grep -v grep | awk '{print \"kill -9\",$2}'| sh\n",
        "\n",
        "# ngrokプロセスの停止\n",
        "#!ps -ef | grep ngrok | grep -v grep | awk '{print \"kill -9\",$2}'| sh"
      ],
      "execution_count": 0,
      "outputs": []
    },
    {
      "cell_type": "markdown",
      "metadata": {
        "id": "iP3EQso80bIX",
        "colab_type": "text"
      },
      "source": [
        "### 1.2 各モデルLayer"
      ]
    },
    {
      "cell_type": "markdown",
      "metadata": {
        "collapsed": true,
        "id": "mBI02lgi0bIY",
        "colab_type": "text"
      },
      "source": [
        "ここからは、layerクラスについて詳しくみていきましょう。\n",
        "\n",
        "MLPで中心的な存在である、層を表すクラスがlayerクラスです。\n",
        "\n",
        "layerには様々な種類があり、そのそれぞれが独自の機能を持っているので、役割をある程度覚えておきましょう。\n",
        "\n",
        "今回は最もオーソドックスなlayerとして、keras.layers.core以下に定義されている中で使用頻度の高いものを紹介します。\n",
        "\n",
        "https://keras.io/ja/layers/about-keras-layers/\n",
        "\n",
        "https://keras.io/ja/layers/core/"
      ]
    },
    {
      "cell_type": "markdown",
      "metadata": {
        "id": "TN8uh6OD0bIZ",
        "colab_type": "text"
      },
      "source": [
        "### 1.2.1 Dense\n",
        "\n",
        "一般的な全結合層を表すレイヤーです。つまり、入力$u\\in\\mathbb{R}^D$に対して、\n",
        "\n",
        "$v = \\sigma(Wu+b) \\in\\mathbb{R}^{D'}$\n",
        "\n",
        "を出力します。\n",
        "\n",
        "なお、$W\\in\\mathbb{R}^{D' \\times D}$は重み行列を表し、$b\\in\\mathbb{R}^{D'}$はバイアスを表しています。\n",
        "\n",
        "重み行列とバイアスは学習によって値が決まることに注意しましょう。\n",
        "\n",
        "また$\\sigma(x):\\mathbb{R}^{D'}\\to\\mathbb{R}^{D'}$は**活性化関数**と呼ばれるもので、任意に指定可能です。\n",
        "\n",
        "（実際には最後の出力層の活性化関数については問題の特性から決まることも多いです）\n",
        "\n",
        "一般に活性化関数には非線形関数を指定することで、MLPの性能を向上させます。"
      ]
    },
    {
      "cell_type": "markdown",
      "metadata": {
        "id": "WBqWuwzq0bIZ",
        "colab_type": "text"
      },
      "source": [
        "```py\n",
        "keras.layers.core.Dense(units, activation=None, use_bias=True, kernel_initializer='glorot_uniform', bias_initializer='zeros',\n",
        "                        kernel_regularizer=None, bias_regularizer=None, activity_regularizer=None,\n",
        "                        kernel_constraint=None, bias_constraint=None)\n",
        "```"
      ]
    },
    {
      "cell_type": "markdown",
      "metadata": {
        "id": "QY0pofdt0bIa",
        "colab_type": "text"
      },
      "source": [
        "主な引数は\n",
        "\n",
        "* units: 出力ユニット数($N$)\n",
        "* activation: 出力ユニットに適用する活性化関数、Activationレイヤーの説明を参照\n",
        "* use_bias: バイアス$b$を使用するか\n",
        "* kernel_initializer: 重み行列$W$の初期化方法（initializerについては3章で扱います）\n",
        "* bias_initializer: バイアス$b$の初期化方法（initializerについては3章で扱います）\n",
        "\n",
        "です。またshapeの入出力での変化は\n",
        "\n",
        "<ol>(batch_size, ..., input_dim) --> (batch_size, ..., units)</ol>\n",
        "\n",
        "のとおり、一番深いネストの次元がinput_dimからunitsに変わるだけです。\n",
        "\n",
        "1.1.1のモデルの構築で出てきた例を以下に再掲します。"
      ]
    },
    {
      "cell_type": "markdown",
      "metadata": {
        "id": "sJvncM_u0bIa",
        "colab_type": "text"
      },
      "source": [
        "```py\n",
        "from keras.layers import Dense, Activation\n",
        "\n",
        "model.add(Dense(units=256, input_shape=(784,))) # 次元の変化: 784 -> 256\n",
        "model.add(Activation('relu'))\n",
        "model.add(Dense(units=100)) # 次元の変化: 256 -> 100\n",
        "model.add(Activation('relu'))\n",
        "model.add(Dense(units=10)) # 次元の変化: 100 -> 10\n",
        "model.add(Activation('softmax'))\n",
        "```"
      ]
    },
    {
      "cell_type": "markdown",
      "metadata": {
        "id": "o2auB_GX0bIb",
        "colab_type": "text"
      },
      "source": [
        "### 1.2.2 Activation\n",
        "\n",
        "入力に対して活性化関数を適用したものを出力します。"
      ]
    },
    {
      "cell_type": "markdown",
      "metadata": {
        "id": "CqGENA-u0bIc",
        "colab_type": "text"
      },
      "source": [
        "```py\n",
        "keras.layers.core.Activation(activation)\n",
        "```"
      ]
    },
    {
      "cell_type": "markdown",
      "metadata": {
        "id": "vt8mkQnU0bId",
        "colab_type": "text"
      },
      "source": [
        "引数は\n",
        "\n",
        "* activation: 適用する活性化関数\n",
        "\n",
        "のみです。（入力と出力でshapeは変わりません）\n",
        "\n",
        "活性化関数として使用できる関数の一覧はこちら( https://keras.io/ja/activations/ )です。\n",
        "\n",
        "よく使用されるものを以下に示します。\n",
        "\n",
        "* sigmoid: $f(x)=\\dfrac{1}{1+e^{-x}}$\n",
        "* ReLU: $f(x)=\\max(0,x)$\n",
        "* tanh: $f(x)=\\tanh(x)=\\dfrac{e^x-e^{-x}}{e^x+e^{-x}}$\n",
        "* softmax: $f(x)=\\dfrac{\\exp(x_d)}{\\sum_{d'} \\exp(x_{d'})} \\quad (x\\in\\mathbb{R}^D,\\ d=1,2,\\ldots,D)$\n",
        "\n",
        "特にsoftmax関数は出力が規格化されているので、確率として解釈できるため多クラス分類タスクの出力層に使用されることが多いです。\n",
        "\n",
        "（2クラス分類であればsigmoid関数を出力層に使用することも多いです）\n",
        "\n",
        "ここで、活性化関数をプロットしてみましょう。(多変数関数のsoftmaxを除く)"
      ]
    },
    {
      "cell_type": "code",
      "metadata": {
        "id": "b-tULG5p0bId",
        "colab_type": "code",
        "colab": {}
      },
      "source": [
        "%matplotlib inline\n",
        "import numpy as np\n",
        "import matplotlib.pyplot as plt\n",
        "\n",
        "def sigmoid(x):\n",
        "    return 1 / (1+np.exp(-x))\n",
        "\n",
        "def relu(x):\n",
        "    return np.maximum(0, x)\n",
        "\n",
        "def tanh(x):\n",
        "    return np.tanh(x)\n",
        "\n",
        "fig = plt.figure()\n",
        "x = np.linspace(-10, 10, 1000)\n",
        "\n",
        "ax = fig.add_subplot(111)\n",
        "ax.plot(x, sigmoid(x), label='sigmoid')\n",
        "ax.plot(x, relu(x), label='ReLU')\n",
        "ax.plot(x, tanh(x), label='tanh')\n",
        "\n",
        "plt.legend()\n",
        "plt.xlim(-5, 5)\n",
        "plt.ylim(-1.1, 2)\n",
        "plt.grid(which='major',color='gray',linestyle='-')\n",
        "plt.show()"
      ],
      "execution_count": 0,
      "outputs": []
    },
    {
      "cell_type": "markdown",
      "metadata": {
        "id": "deHEnYOR0bIh",
        "colab_type": "text"
      },
      "source": [
        "1.1.1のモデルの構築で出てきた例を以下に再掲します。\n",
        "\n",
        "```py\n",
        "from keras.layers import Dense, Activation\n",
        "\n",
        "model.add(Dense(units=256, input_shape=(784,)))\n",
        "model.add(Activation('relu')) # 活性化関数として relu を選択\n",
        "model.add(Dense(units=100))\n",
        "model.add(Activation('relu')) # 活性化関数として relu を選択\n",
        "model.add(Dense(units=10))\n",
        "model.add(Activation('softmax')) # 活性化関数として softmax を選択\n",
        "```\n",
        "\n",
        "なお、活性化関数はDenseレイヤーなどで直接指定することも可能で、実際に以下のコードは上記と同じ結果になります。\n",
        "\n",
        "```py\n",
        "from keras.layers import Dense, Activation\n",
        "\n",
        "model.add(Dense(256, input_shape=(784,), activation='relu'))\n",
        "model.add(Dense(100, activation='relu'))\n",
        "model.add(Dense(10, activation='softmax'))\n",
        "```"
      ]
    },
    {
      "cell_type": "markdown",
      "metadata": {
        "id": "oYfUF8xS0bIh",
        "colab_type": "text"
      },
      "source": [
        "### 1.2.3 Flatten\n",
        "\n",
        "入力をフラット化します。つまり、リストの入れ子になっているデータを1つのリストに展開します。\n",
        "\n",
        "(Ex. [[1,2,3],[4,5,6],[7],[8,9]]->[1,2,3,4,5,6,7,8,9])"
      ]
    },
    {
      "cell_type": "markdown",
      "metadata": {
        "id": "2_aoflDN0bIi",
        "colab_type": "text"
      },
      "source": [
        "```py\n",
        "keras.layers.core.Flatten()\n",
        "```"
      ]
    },
    {
      "cell_type": "markdown",
      "metadata": {
        "id": "mSZWJUX40bIj",
        "colab_type": "text"
      },
      "source": [
        "例は次の通りです。（出力shapeはbatch_sizeを除く入力shapeの積）"
      ]
    },
    {
      "cell_type": "markdown",
      "metadata": {
        "id": "W9jK50yV0bIj",
        "colab_type": "text"
      },
      "source": [
        "```py\n",
        "model = Sequential()\n",
        "model.add(Conv2D(64, (3, 3), input_shape=(3, 32, 32))) # 次元の変化: (3, 32, 32) -> (64, 32, 32)\n",
        "# Conv2Dは未修ですが、ここではその機能は関係ないので気にしなくて結構です\n",
        "\n",
        "model.add(Flatten()) # 次元の変化: (64, 32, 32) -> (65536,) (65536 = 64*32*32)\n",
        "```"
      ]
    },
    {
      "cell_type": "markdown",
      "metadata": {
        "id": "qYY9lzSH0bIk",
        "colab_type": "text"
      },
      "source": [
        "### 1.2.4 Reshape\n",
        "\n",
        "入力を指定のshapeに変換して出力します。"
      ]
    },
    {
      "cell_type": "markdown",
      "metadata": {
        "id": "fPX796mW0bIl",
        "colab_type": "text"
      },
      "source": [
        "```\n",
        "keras.layers.core.Reshape(target_shape)\n",
        "```"
      ]
    },
    {
      "cell_type": "markdown",
      "metadata": {
        "id": "Ei7rOqVE0bIl",
        "colab_type": "text"
      },
      "source": [
        "引数は\n",
        "* target_shape: 変換先のshapeを表す整数のタプル、ただしサンプルの次元（バッチサイズ）を含まない\n",
        "\n",
        "例は次の通りです。"
      ]
    },
    {
      "cell_type": "markdown",
      "metadata": {
        "id": "XRui-nh80bIm",
        "colab_type": "text"
      },
      "source": [
        "```py\n",
        "model = Sequential()\n",
        "model.add(Reshape((3, 4), input_shape=(12,))) # 次元の変化: (12,) -> (3, 4)\n",
        "\n",
        "model.add(Reshape((6, 2))) # 次元の変化: (3, 4) -> (6, 2)\n",
        "\n",
        "# `-1`をしていすると、その次元については推定してくれます(6/2=3)\n",
        "model.add(Reshape((-1, 2, 2))) # 次元の変化: (6, 2) -> (?, 2, 2)=(3, 2, 2)\n",
        "```"
      ]
    },
    {
      "cell_type": "markdown",
      "metadata": {
        "id": "ucQ7uJRM0bIm",
        "colab_type": "text"
      },
      "source": [
        "### 1.2.5 Permute\n",
        "\n",
        "入力の次元を入れ替えます。"
      ]
    },
    {
      "cell_type": "markdown",
      "metadata": {
        "id": "VngIwkch0bIn",
        "colab_type": "text"
      },
      "source": [
        "```py\n",
        "keras.layers.core.Permute(dims)\n",
        "```"
      ]
    },
    {
      "cell_type": "markdown",
      "metadata": {
        "id": "NvjF9_0E0bIo",
        "colab_type": "text"
      },
      "source": [
        "引数は\n",
        "\n",
        "* dims: 次元の入れ替え方を指定する整数のタプル、サンプルの次元はふくまない1から始まるindexで指定\n",
        "\n",
        "です。（入力と出力でshapeは変わりません）\n",
        "\n",
        "例は次の通りです。"
      ]
    },
    {
      "cell_type": "markdown",
      "metadata": {
        "id": "wDR5EyED0bIp",
        "colab_type": "text"
      },
      "source": [
        "```py\n",
        "model = Sequential()\n",
        "model.add(Permute((2, 1), input_shape=(10, 64))) # 次元の変化: (10, 64) -> (64, 10)\n",
        "```"
      ]
    },
    {
      "cell_type": "markdown",
      "metadata": {
        "id": "_W67nYpg0bIr",
        "colab_type": "text"
      },
      "source": [
        "### 1.2.6 RepeatVector\n",
        "\n",
        "入力を指定回数繰り返します。"
      ]
    },
    {
      "cell_type": "markdown",
      "metadata": {
        "id": "AtMC1sJV0bIr",
        "colab_type": "text"
      },
      "source": [
        "```py\n",
        "keras.layers.core.RepeatVector(n)\n",
        "```"
      ]
    },
    {
      "cell_type": "markdown",
      "metadata": {
        "id": "nd8GrtJI0bIs",
        "colab_type": "text"
      },
      "source": [
        "引数は\n",
        "\n",
        "* n: 入力の複製回数\n",
        "\n",
        "です。またshapeの入出力での変化は\n",
        "\n",
        "<ol>(num_samples, features) --> (num_samples, n, features)</ol>\n",
        "\n",
        "であり、入力には2階のテンソルのみを受け付けます。"
      ]
    },
    {
      "cell_type": "markdown",
      "metadata": {
        "id": "F18fL6Cx0bIt",
        "colab_type": "text"
      },
      "source": [
        "### 1.3 損失関数"
      ]
    },
    {
      "cell_type": "markdown",
      "metadata": {
        "id": "GQ36NEcz0bIv",
        "colab_type": "text"
      },
      "source": [
        "モデルの学習にあたっては、損失関数の最小化を行うわけでした。そこで、続いて損失関数についてみていきます。\n",
        "\n",
        "https://keras.io/ja/losses/\n",
        "\n",
        "kerasではモデルをコンパイルする際に損失関数を設定します。"
      ]
    },
    {
      "cell_type": "markdown",
      "metadata": {
        "id": "4JbXxomQ0bIw",
        "colab_type": "text"
      },
      "source": [
        "損失関数の選択においては、出力値が連続な場合と離散な場合で大きく異なってきます。\n",
        "\n",
        "#### 連続値のとき\n",
        "\n",
        " 主に使用されるのは**平均二乗誤差**です。これは各ミニバッチのデータ数を$N$として、\n",
        "\n",
        " $$E=\\dfrac{1}{N}\\sum_{n=1}^{N}(y_n-t_n)^2$$\n",
        "\n",
        " として表されます。(なお、$y_n, t_n$はそれぞれ入力$x_n$に対するモデルの出力値(y_pred)と出力データ(y_true)を表す)\n",
        "\n",
        " この平均二乗誤差を使用する場合、compile関数の引数として`loss='mean_squared_error'`を指定します。\n",
        "\n",
        "\n",
        "#### 離散値のとき\n",
        "\n",
        "主に使用されるのは、**（多クラス）交差エントロピー**です。2クラス分類の場合は交差エントロピーとして\n",
        "\n",
        "$$E=-\\dfrac{1}{N}\\sum_{n=1}^N \\left[t_n \\ln y_n + (1-t_n) \\ln (1-y_n) \\right]$$\n",
        "\n",
        "を使用し、多クラス分類（Kクラス）の場合は多クラス交差エントロピーとして\n",
        "\n",
        "$$E=-\\dfrac{1}{N}\\sum_{n=1}^N \\sum_{k=1}^K t_{nk} \\ln y_{nk}$$\n",
        "\n",
        "を用います。それぞれcompile関数の引数として`loss='binary_crossentropy'`、`loss='categorical_crossentropy'`を指定することで使用できます。\n",
        "    \n",
        "\n",
        "今回利用したMNISTは0~9の離散値であるため、以下のように多クラス交差エントロピーを利用しています。\n",
        "\n",
        "```py\n",
        "model.compile(loss='categorical_crossentropy',\n",
        "              optimizer='sgd',\n",
        "              metrics=['accuracy'])\n",
        "```\n",
        " "
      ]
    },
    {
      "cell_type": "markdown",
      "metadata": {
        "id": "xBYBfyw90bIx",
        "colab_type": "text"
      },
      "source": [
        "### 1.4 評価関数"
      ]
    },
    {
      "cell_type": "markdown",
      "metadata": {
        "id": "WEWYC4ua0bIy",
        "colab_type": "text"
      },
      "source": [
        "評価関数(metric)はモデルの出力の良し悪しを評価します。\n",
        "\n",
        "損失関数もモデルの良し悪しの指標となるという点では同じですが、損失関数は最適化計算をとおして学習に直接的に影響するのに対して、評価関数は学習には使用されず、あくまでその時点でのモデルの評価指標を出力するのみであるという違いがあります。\n",
        "\n",
        "つまり、compile関数で指定すると、訓練やテストの際に参考情報として評価関数の値が返り値として受け取れるというだけです。\n",
        "\n",
        "評価関数として使用することが多いのは**accuracy(正解率)**です。（正解率＝全体のデータに対して予測値が答えと一致した割合）\n",
        "\n",
        "これはcompile関数の引数として、`metrics=['acc']`を指定することで使用できます。（リストに他の損失関数を含めれば、それらも同時に評価されます）\n",
        "\n",
        "https://keras.io/ja/metrics/"
      ]
    },
    {
      "cell_type": "markdown",
      "metadata": {
        "id": "3kDw9ZBi0bIz",
        "colab_type": "text"
      },
      "source": [
        "### 1.5 Functional API"
      ]
    },
    {
      "cell_type": "markdown",
      "metadata": {
        "id": "PKNk1bRK0bIz",
        "colab_type": "text"
      },
      "source": [
        "ここまではkeras.models.Sequentialクラスを用いたモデル構築を説明しました。\n",
        "\n",
        "Sequentialクラスを用いる場合はadd関数を使用して簡単にモデルを構築できますが、途中に分岐や合流があるような複雑なモデルは作成できません。\n",
        "\n",
        "こうしたより複雑なモデルの構築には別の方法が用意されています。それが**Functional API**です。この特徴は\n",
        "\n",
        "* **Inputレイヤー**から構築を始める\n",
        "* 各レイヤーの返り値（テンソル）を次のレイヤーの入力として順々に構築していく\n",
        "* **keras.models.Modelクラス**に入力と出力を指定することでインスタンス化\n",
        "\n",
        "という点です。一度Modelクラスのインスタンスを作ってしまえば、後の学習等はSequentialクラスによる場合と同様です。\n",
        "\n",
        "より詳しくは、実際にFunctional APIが必須になる第4回で扱いますが、すぐにFunctional APIの発展的な利用法をみたいという方は、\n",
        "\n",
        "下記の公式HPのリンクにいくつか記載がありますので参考にしてみてください。\n",
        "\n",
        "https://keras.io/ja/getting-started/functional-api-guide/\n",
        "\n",
        "https://keras.io/ja/models/model/"
      ]
    },
    {
      "cell_type": "markdown",
      "metadata": {
        "id": "tKmaNCMW0bI2",
        "colab_type": "text"
      },
      "source": [
        "### 1.6 確認問題"
      ]
    },
    {
      "cell_type": "markdown",
      "metadata": {
        "id": "TjyPeDPG0bI3",
        "colab_type": "text"
      },
      "source": [
        "1. 学習データ以外の未知のデータに対するモデルの予測性能を何というか  \n",
        "  ①神通力　②バイアス　③汎化性能　④共起性\n",
        "2. データセット全体を一度に全て使用して学習する方法を何というか  \n",
        "  ①転移学習　②ワンショット学習　③過学習　④バッチ学習　\n",
        "3. 名義尺度のデータをバイナリベクトルによって表現したものを何というか  \n",
        "  ①分散表現　②one-hot表現　③ビット表現　④ユニタリ表現\n",
        "4. モデルの学習に当たって最小化するものは何か  \n",
        "  ①精度　②損失関数　③スコア　④F値"
      ]
    },
    {
      "cell_type": "code",
      "metadata": {
        "id": "-RKTQVB80bI4",
        "colab_type": "code",
        "colab": {}
      },
      "source": [
        ""
      ],
      "execution_count": 0,
      "outputs": []
    }
  ]
}